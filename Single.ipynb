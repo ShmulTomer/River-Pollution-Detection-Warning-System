{
 "cells": [
  {
   "cell_type": "code",
   "execution_count": 2,
   "id": "c0b6fe4d",
   "metadata": {},
   "outputs": [],
   "source": [
    "from pathlib import Path\n",
    "\n",
    "auxdata = Path('./tests/aux_data')\n",
    "\n",
    "wd_ini = auxdata/'WaterDetect.ini'\n",
    "wq_ini = auxdata/'WaterQuality.ini'\n",
    "\n",
    "assert wq_ini.exists() and wd_ini.exists()"
   ]
  },
  {
   "cell_type": "code",
   "execution_count": 23,
   "id": "90a417ce",
   "metadata": {},
   "outputs": [
    {
     "name": "stdout",
     "output_type": "stream",
     "text": [
      "Loading configuration file tests/aux_data/WaterQuality.ini\n",
      "File tests/aux_data/WaterQuality.ini verified.\n",
      "Loading configuration file tests/aux_data/WaterDetect.ini\n",
      "File tests/aux_data/WaterDetect.ini verified.\n",
      "Folder /Users/tomershmul/Documents/WaterDetect/in2/S2A_MSIL2A_20230121T111351_N0509_R137_T30TWT_20230121T144553.SAFE verified.\n",
      "File  verified.\n",
      "Folder /Users/tomershmul/Documents/WaterDetect/out2.5 verified.\n"
     ]
    }
   ],
   "source": [
    "from waterquality import DWWaterQuality\n",
    "\n",
    "wq = DWWaterQuality(\n",
    "    input_folder='/Users/tomershmul/Documents/WaterDetect/in2/S2A_MSIL2A_20230121T111351_N0509_R137_T30TWT_20230121T144553.SAFE',\n",
    "    output_folder='/Users/tomershmul/Documents/WaterDetect/out2.5',\n",
    "    shape_file='',\n",
    "    product='S2_S2COR',\n",
    "    config_file=wd_ini,\n",
    "    config_wq=wq_ini,\n",
    "    single_mode=True,\n",
    ")"
   ]
  },
  {
   "cell_type": "code",
   "execution_count": 17,
   "id": "e8b9fd22",
   "metadata": {},
   "outputs": [
    {
     "name": "stdout",
     "output_type": "stream",
     "text": [
      "{'bands_names': {'Blue': 'B02_10m', 'Green': 'B03_10m', 'Red': 'B04_10m', 'Mir': 'B11_20m', 'Mir2': 'B12_20m', 'RedEdg1': 'B05_20m', 'RedEdg2': 'B06_20m', 'RedEdg3': 'B07_20m', 'Nir': 'B08_10m', 'Nir2': 'B8A_20m'}, 'suffix': '.jp2', 'string': '', 'granule_metadata': '*MTD_TL.xml', 'metadata': 'MTD_MSIL2A.xml', 'subdir': 'GRANULE/*/IMG_DATA', 'recursive': True}\n"
     ]
    }
   ],
   "source": [
    "from waterdetect.InputOutput import DWLoader\n",
    "\n",
    "# select the product\n",
    "product = 'S2_S2COR'    # or S2_THEIA, L8_USGS, S2_L1C, L8_L1C\n",
    "\n",
    "# print the bands with the internal waterdetect names\n",
    "print(DWLoader.satellite_Dict['S2_S2COR'])"
   ]
  },
  {
   "cell_type": "raw",
   "id": "886f7c25",
   "metadata": {},
   "source": []
  },
  {
   "cell_type": "code",
   "execution_count": 18,
   "id": "87c271f2",
   "metadata": {},
   "outputs": [],
   "source": [
    "def tsm(Red=1):\n",
    "    a = 493.65\n",
    "    b = 1.16\n",
    "    c = 0.188\n",
    "    tsm = a * Red / (1 - (Red/c)) + b\n",
    "    return tsm"
   ]
  },
  {
   "cell_type": "code",
   "execution_count": 21,
   "id": "5bbccf28",
   "metadata": {},
   "outputs": [
    {
     "name": "stdout",
     "output_type": "stream",
     "text": [
      "Starting WaterDetection version: 1.5.14\n",
      "Opening image in folder /Users/tomershmul/Documents/WaterDetect/in2/S2A_MSIL2A_20230121T111351_N0509_R137_T30TWT_20230121T144553.SAFE\n",
      "Retrieving bands for product S2_S2COR\n",
      "36 were found:\n",
      "Loading band: Blue\n",
      "Loading band: Green\n",
      "Loading band: Red\n",
      "Loading band: Mir\n",
      "Loading band: Mir2\n",
      "Loading band: RedEdg1\n",
      "Loading band: RedEdg2\n",
      "Loading band: RedEdg3\n",
      "Loading band: Nir\n",
      "Loading band: Nir2\n",
      "****** ERROR ********\n",
      "'NoneType' object has no attribute 'FlushCache'\n"
     ]
    },
    {
     "name": "stderr",
     "output_type": "stream",
     "text": [
      "ERROR 1: Cannot open ..\n"
     ]
    }
   ],
   "source": [
    "functions = {\n",
    "    'SPM_Nechad': {\n",
    "        'function': tsm,\n",
    "        'units': 'mg/l'\n",
    "    }\n",
    "    # Here you can add another quality function\n",
    "}\n",
    "\n",
    "wq.run_water_quality(\n",
    "    inversion_functions=functions\n",
    ")"
   ]
  },
  {
   "cell_type": "code",
   "execution_count": null,
   "id": "493fe4eb",
   "metadata": {},
   "outputs": [],
   "source": []
  }
 ],
 "metadata": {
  "kernelspec": {
   "display_name": "Python 3 (ipykernel)",
   "language": "python",
   "name": "python3"
  },
  "language_info": {
   "codemirror_mode": {
    "name": "ipython",
    "version": 3
   },
   "file_extension": ".py",
   "mimetype": "text/x-python",
   "name": "python",
   "nbconvert_exporter": "python",
   "pygments_lexer": "ipython3",
   "version": "3.7.15"
  }
 },
 "nbformat": 4,
 "nbformat_minor": 5
}
